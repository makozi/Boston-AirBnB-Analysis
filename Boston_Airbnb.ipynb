{
  "nbformat": 4,
  "nbformat_minor": 0,
  "metadata": {
    "colab": {
      "name": "Boston Airbnb.ipynb",
      "provenance": [],
      "collapsed_sections": [],
      "authorship_tag": "ABX9TyNV8zTytIlElgWsns1tYL+o",
      "include_colab_link": true
    },
    "kernelspec": {
      "name": "python3",
      "display_name": "Python 3"
    }
  },
  "cells": [
    {
      "cell_type": "markdown",
      "metadata": {
        "id": "view-in-github",
        "colab_type": "text"
      },
      "source": [
        "<a href=\"https://colab.research.google.com/github/makozi/Boston-AirBnB-Analysis/blob/develop-1/Boston_Airbnb.ipynb\" target=\"_parent\"><img src=\"https://colab.research.google.com/assets/colab-badge.svg\" alt=\"Open In Colab\"/></a>"
      ]
    },
    {
      "cell_type": "markdown",
      "metadata": {
        "id": "Qbz17Nh4GmfY",
        "colab_type": "text"
      },
      "source": [
        "# Boston Airbnb"
      ]
    },
    {
      "cell_type": "markdown",
      "metadata": {
        "id": "Zr0t7t8wMm67",
        "colab_type": "text"
      },
      "source": [
        "## This project will follow the CRISP-DM Process\n",
        "\n",
        "We will follow the following steps:\n",
        "\n",
        "1.Business Understanding\n",
        "\n",
        "2.Data Understanding\n",
        "\n",
        "3.Prepare Data\n",
        "\n",
        "4.Data Modeling\n",
        "\n",
        "5.Evaluate the Results"
      ]
    },
    {
      "cell_type": "code",
      "metadata": {
        "id": "O6si79aKGJKV",
        "colab_type": "code",
        "outputId": "a4a3f783-b831-48d7-a397-712ab2c335d6",
        "colab": {
          "base_uri": "https://localhost:8080/",
          "height": 71
        }
      },
      "source": [
        "# All of my findings will be in a GitHub repository and Medium post.\n",
        "# Step 1: Import necessary libraries.\n",
        "import numpy as np\n",
        "import pandas as pd\n",
        "import matplotlib.pyplot as plt\n",
        "from matplotlib import rcParams\n",
        "from sklearn.linear_model import LinearRegression\n",
        "from sklearn.model_selection import train_test_split\n",
        "from sklearn.metrics import r2_score, mean_squared_error\n",
        "import cartopy.crs as ccrs\n",
        "import cartopy.feature as cfeature\n",
        "import seaborn as sns\n",
        "\n",
        "%matplotlib inline"
      ],
      "execution_count": 0,
      "outputs": [
        {
          "output_type": "stream",
          "text": [
            "/usr/local/lib/python3.6/dist-packages/statsmodels/tools/_testing.py:19: FutureWarning: pandas.util.testing is deprecated. Use the functions in the public API at pandas.testing instead.\n",
            "  import pandas.util.testing as tm\n"
          ],
          "name": "stderr"
        }
      ]
    },
    {
      "cell_type": "code",
      "metadata": {
        "id": "-EKp6io-9mlM",
        "colab_type": "code",
        "colab": {}
      },
      "source": [
        "!apt-get -qq install python-cartopy python3-cartopy\n",
        "import cartopy"
      ],
      "execution_count": 0,
      "outputs": []
    },
    {
      "cell_type": "code",
      "metadata": {
        "id": "gfqGuQBRA2B8",
        "colab_type": "code",
        "colab": {}
      },
      "source": [
        "!pip install -q  gmaps\n",
        "import gmaps"
      ],
      "execution_count": 0,
      "outputs": []
    },
    {
      "cell_type": "markdown",
      "metadata": {
        "id": "0xgVDUKNIXKx",
        "colab_type": "text"
      },
      "source": [
        "### Importing Dataset"
      ]
    },
    {
      "cell_type": "code",
      "metadata": {
        "id": "FnhtEgNOGWxp",
        "colab_type": "code",
        "colab": {}
      },
      "source": [
        "url1= 'https://raw.githubusercontent.com/Mikemraz/boston-airbnb-analysis/master/calendar.csv'\n",
        "url2= 'https://raw.githubusercontent.com/Mikemraz/boston-airbnb-analysis/master/reviews.csv'\n",
        "url3='https://raw.githubusercontent.com/Mikemraz/boston-airbnb-analysis/master/listings.csv'\n",
        "\n",
        "\n",
        "df_calendar = pd.read_csv(url1)\n",
        "df_reviews = pd.read_csv(url2)\n",
        "df_listings = pd.read_csv(url3)\n"
      ],
      "execution_count": 0,
      "outputs": []
    },
    {
      "cell_type": "code",
      "metadata": {
        "id": "G_lB62GwIu7c",
        "colab_type": "code",
        "outputId": "27133252-aeed-42e7-cdad-8f527aa99626",
        "colab": {
          "base_uri": "https://localhost:8080/",
          "height": 204
        }
      },
      "source": [
        "df_calendar.head()"
      ],
      "execution_count": 0,
      "outputs": [
        {
          "output_type": "execute_result",
          "data": {
            "text/html": [
              "<div>\n",
              "<style scoped>\n",
              "    .dataframe tbody tr th:only-of-type {\n",
              "        vertical-align: middle;\n",
              "    }\n",
              "\n",
              "    .dataframe tbody tr th {\n",
              "        vertical-align: top;\n",
              "    }\n",
              "\n",
              "    .dataframe thead th {\n",
              "        text-align: right;\n",
              "    }\n",
              "</style>\n",
              "<table border=\"1\" class=\"dataframe\">\n",
              "  <thead>\n",
              "    <tr style=\"text-align: right;\">\n",
              "      <th></th>\n",
              "      <th>listing_id</th>\n",
              "      <th>date</th>\n",
              "      <th>available</th>\n",
              "      <th>price</th>\n",
              "    </tr>\n",
              "  </thead>\n",
              "  <tbody>\n",
              "    <tr>\n",
              "      <th>0</th>\n",
              "      <td>12147973</td>\n",
              "      <td>2017-09-05</td>\n",
              "      <td>f</td>\n",
              "      <td>NaN</td>\n",
              "    </tr>\n",
              "    <tr>\n",
              "      <th>1</th>\n",
              "      <td>12147973</td>\n",
              "      <td>2017-09-04</td>\n",
              "      <td>f</td>\n",
              "      <td>NaN</td>\n",
              "    </tr>\n",
              "    <tr>\n",
              "      <th>2</th>\n",
              "      <td>12147973</td>\n",
              "      <td>2017-09-03</td>\n",
              "      <td>f</td>\n",
              "      <td>NaN</td>\n",
              "    </tr>\n",
              "    <tr>\n",
              "      <th>3</th>\n",
              "      <td>12147973</td>\n",
              "      <td>2017-09-02</td>\n",
              "      <td>f</td>\n",
              "      <td>NaN</td>\n",
              "    </tr>\n",
              "    <tr>\n",
              "      <th>4</th>\n",
              "      <td>12147973</td>\n",
              "      <td>2017-09-01</td>\n",
              "      <td>f</td>\n",
              "      <td>NaN</td>\n",
              "    </tr>\n",
              "  </tbody>\n",
              "</table>\n",
              "</div>"
            ],
            "text/plain": [
              "   listing_id        date available price\n",
              "0    12147973  2017-09-05         f   NaN\n",
              "1    12147973  2017-09-04         f   NaN\n",
              "2    12147973  2017-09-03         f   NaN\n",
              "3    12147973  2017-09-02         f   NaN\n",
              "4    12147973  2017-09-01         f   NaN"
            ]
          },
          "metadata": {
            "tags": []
          },
          "execution_count": 7
        }
      ]
    },
    {
      "cell_type": "code",
      "metadata": {
        "id": "pCYz36uBI5z1",
        "colab_type": "code",
        "outputId": "4b640f04-f987-4e03-deaa-7f17f9718ad0",
        "colab": {
          "base_uri": "https://localhost:8080/",
          "height": 204
        }
      },
      "source": [
        "df_reviews.head()"
      ],
      "execution_count": 0,
      "outputs": [
        {
          "output_type": "execute_result",
          "data": {
            "text/html": [
              "<div>\n",
              "<style scoped>\n",
              "    .dataframe tbody tr th:only-of-type {\n",
              "        vertical-align: middle;\n",
              "    }\n",
              "\n",
              "    .dataframe tbody tr th {\n",
              "        vertical-align: top;\n",
              "    }\n",
              "\n",
              "    .dataframe thead th {\n",
              "        text-align: right;\n",
              "    }\n",
              "</style>\n",
              "<table border=\"1\" class=\"dataframe\">\n",
              "  <thead>\n",
              "    <tr style=\"text-align: right;\">\n",
              "      <th></th>\n",
              "      <th>listing_id</th>\n",
              "      <th>id</th>\n",
              "      <th>date</th>\n",
              "      <th>reviewer_id</th>\n",
              "      <th>reviewer_name</th>\n",
              "      <th>comments</th>\n",
              "    </tr>\n",
              "  </thead>\n",
              "  <tbody>\n",
              "    <tr>\n",
              "      <th>0</th>\n",
              "      <td>1178162</td>\n",
              "      <td>4724140</td>\n",
              "      <td>2013-05-21</td>\n",
              "      <td>4298113</td>\n",
              "      <td>Olivier</td>\n",
              "      <td>My stay at islam's place was really cool! Good...</td>\n",
              "    </tr>\n",
              "    <tr>\n",
              "      <th>1</th>\n",
              "      <td>1178162</td>\n",
              "      <td>4869189</td>\n",
              "      <td>2013-05-29</td>\n",
              "      <td>6452964</td>\n",
              "      <td>Charlotte</td>\n",
              "      <td>Great location for both airport and city - gre...</td>\n",
              "    </tr>\n",
              "    <tr>\n",
              "      <th>2</th>\n",
              "      <td>1178162</td>\n",
              "      <td>5003196</td>\n",
              "      <td>2013-06-06</td>\n",
              "      <td>6449554</td>\n",
              "      <td>Sebastian</td>\n",
              "      <td>We really enjoyed our stay at Islams house. Fr...</td>\n",
              "    </tr>\n",
              "    <tr>\n",
              "      <th>3</th>\n",
              "      <td>1178162</td>\n",
              "      <td>5150351</td>\n",
              "      <td>2013-06-15</td>\n",
              "      <td>2215611</td>\n",
              "      <td>Marine</td>\n",
              "      <td>The room was nice and clean and so were the co...</td>\n",
              "    </tr>\n",
              "    <tr>\n",
              "      <th>4</th>\n",
              "      <td>1178162</td>\n",
              "      <td>5171140</td>\n",
              "      <td>2013-06-16</td>\n",
              "      <td>6848427</td>\n",
              "      <td>Andrew</td>\n",
              "      <td>Great location. Just 5 mins walk from the Airp...</td>\n",
              "    </tr>\n",
              "  </tbody>\n",
              "</table>\n",
              "</div>"
            ],
            "text/plain": [
              "   listing_id  ...                                           comments\n",
              "0     1178162  ...  My stay at islam's place was really cool! Good...\n",
              "1     1178162  ...  Great location for both airport and city - gre...\n",
              "2     1178162  ...  We really enjoyed our stay at Islams house. Fr...\n",
              "3     1178162  ...  The room was nice and clean and so were the co...\n",
              "4     1178162  ...  Great location. Just 5 mins walk from the Airp...\n",
              "\n",
              "[5 rows x 6 columns]"
            ]
          },
          "metadata": {
            "tags": []
          },
          "execution_count": 8
        }
      ]
    },
    {
      "cell_type": "code",
      "metadata": {
        "id": "I60dE88PJGK-",
        "colab_type": "code",
        "outputId": "f605adb5-092c-4d7b-8e68-b177d6a85517",
        "colab": {
          "base_uri": "https://localhost:8080/",
          "height": 763
        }
      },
      "source": [
        "df_listings.head()"
      ],
      "execution_count": 0,
      "outputs": [
        {
          "output_type": "execute_result",
          "data": {
            "text/html": [
              "<div>\n",
              "<style scoped>\n",
              "    .dataframe tbody tr th:only-of-type {\n",
              "        vertical-align: middle;\n",
              "    }\n",
              "\n",
              "    .dataframe tbody tr th {\n",
              "        vertical-align: top;\n",
              "    }\n",
              "\n",
              "    .dataframe thead th {\n",
              "        text-align: right;\n",
              "    }\n",
              "</style>\n",
              "<table border=\"1\" class=\"dataframe\">\n",
              "  <thead>\n",
              "    <tr style=\"text-align: right;\">\n",
              "      <th></th>\n",
              "      <th>id</th>\n",
              "      <th>listing_url</th>\n",
              "      <th>scrape_id</th>\n",
              "      <th>last_scraped</th>\n",
              "      <th>name</th>\n",
              "      <th>summary</th>\n",
              "      <th>space</th>\n",
              "      <th>description</th>\n",
              "      <th>experiences_offered</th>\n",
              "      <th>neighborhood_overview</th>\n",
              "      <th>notes</th>\n",
              "      <th>transit</th>\n",
              "      <th>access</th>\n",
              "      <th>interaction</th>\n",
              "      <th>house_rules</th>\n",
              "      <th>thumbnail_url</th>\n",
              "      <th>medium_url</th>\n",
              "      <th>picture_url</th>\n",
              "      <th>xl_picture_url</th>\n",
              "      <th>host_id</th>\n",
              "      <th>host_url</th>\n",
              "      <th>host_name</th>\n",
              "      <th>host_since</th>\n",
              "      <th>host_location</th>\n",
              "      <th>host_about</th>\n",
              "      <th>host_response_time</th>\n",
              "      <th>host_response_rate</th>\n",
              "      <th>host_acceptance_rate</th>\n",
              "      <th>host_is_superhost</th>\n",
              "      <th>host_thumbnail_url</th>\n",
              "      <th>host_picture_url</th>\n",
              "      <th>host_neighbourhood</th>\n",
              "      <th>host_listings_count</th>\n",
              "      <th>host_total_listings_count</th>\n",
              "      <th>host_verifications</th>\n",
              "      <th>host_has_profile_pic</th>\n",
              "      <th>host_identity_verified</th>\n",
              "      <th>street</th>\n",
              "      <th>neighbourhood</th>\n",
              "      <th>neighbourhood_cleansed</th>\n",
              "      <th>...</th>\n",
              "      <th>bedrooms</th>\n",
              "      <th>beds</th>\n",
              "      <th>bed_type</th>\n",
              "      <th>amenities</th>\n",
              "      <th>square_feet</th>\n",
              "      <th>price</th>\n",
              "      <th>weekly_price</th>\n",
              "      <th>monthly_price</th>\n",
              "      <th>security_deposit</th>\n",
              "      <th>cleaning_fee</th>\n",
              "      <th>guests_included</th>\n",
              "      <th>extra_people</th>\n",
              "      <th>minimum_nights</th>\n",
              "      <th>maximum_nights</th>\n",
              "      <th>calendar_updated</th>\n",
              "      <th>has_availability</th>\n",
              "      <th>availability_30</th>\n",
              "      <th>availability_60</th>\n",
              "      <th>availability_90</th>\n",
              "      <th>availability_365</th>\n",
              "      <th>calendar_last_scraped</th>\n",
              "      <th>number_of_reviews</th>\n",
              "      <th>first_review</th>\n",
              "      <th>last_review</th>\n",
              "      <th>review_scores_rating</th>\n",
              "      <th>review_scores_accuracy</th>\n",
              "      <th>review_scores_cleanliness</th>\n",
              "      <th>review_scores_checkin</th>\n",
              "      <th>review_scores_communication</th>\n",
              "      <th>review_scores_location</th>\n",
              "      <th>review_scores_value</th>\n",
              "      <th>requires_license</th>\n",
              "      <th>license</th>\n",
              "      <th>jurisdiction_names</th>\n",
              "      <th>instant_bookable</th>\n",
              "      <th>cancellation_policy</th>\n",
              "      <th>require_guest_profile_picture</th>\n",
              "      <th>require_guest_phone_verification</th>\n",
              "      <th>calculated_host_listings_count</th>\n",
              "      <th>reviews_per_month</th>\n",
              "    </tr>\n",
              "  </thead>\n",
              "  <tbody>\n",
              "    <tr>\n",
              "      <th>0</th>\n",
              "      <td>12147973</td>\n",
              "      <td>https://www.airbnb.com/rooms/12147973</td>\n",
              "      <td>20160906204935</td>\n",
              "      <td>2016-09-07</td>\n",
              "      <td>Sunny Bungalow in the City</td>\n",
              "      <td>Cozy, sunny, family home.  Master bedroom high...</td>\n",
              "      <td>The house has an open and cozy feel at the sam...</td>\n",
              "      <td>Cozy, sunny, family home.  Master bedroom high...</td>\n",
              "      <td>none</td>\n",
              "      <td>Roslindale is quiet, convenient and friendly. ...</td>\n",
              "      <td>NaN</td>\n",
              "      <td>The bus stop is 2 blocks away, and frequent. B...</td>\n",
              "      <td>You will have access to 2 bedrooms, a living r...</td>\n",
              "      <td>NaN</td>\n",
              "      <td>Clean up and treat the home the way you'd like...</td>\n",
              "      <td>https://a2.muscache.com/im/pictures/c0842db1-e...</td>\n",
              "      <td>https://a2.muscache.com/im/pictures/c0842db1-e...</td>\n",
              "      <td>https://a2.muscache.com/im/pictures/c0842db1-e...</td>\n",
              "      <td>https://a2.muscache.com/im/pictures/c0842db1-e...</td>\n",
              "      <td>31303940</td>\n",
              "      <td>https://www.airbnb.com/users/show/31303940</td>\n",
              "      <td>Virginia</td>\n",
              "      <td>2015-04-15</td>\n",
              "      <td>Boston, Massachusetts, United States</td>\n",
              "      <td>We are country and city connecting in our deck...</td>\n",
              "      <td>NaN</td>\n",
              "      <td>NaN</td>\n",
              "      <td>NaN</td>\n",
              "      <td>f</td>\n",
              "      <td>https://a2.muscache.com/im/pictures/5936fef0-b...</td>\n",
              "      <td>https://a2.muscache.com/im/pictures/5936fef0-b...</td>\n",
              "      <td>Roslindale</td>\n",
              "      <td>1</td>\n",
              "      <td>1</td>\n",
              "      <td>['email', 'phone', 'facebook', 'reviews']</td>\n",
              "      <td>t</td>\n",
              "      <td>f</td>\n",
              "      <td>Birch Street, Boston, MA 02131, United States</td>\n",
              "      <td>Roslindale</td>\n",
              "      <td>Roslindale</td>\n",
              "      <td>...</td>\n",
              "      <td>2.0</td>\n",
              "      <td>3.0</td>\n",
              "      <td>Real Bed</td>\n",
              "      <td>{TV,\"Wireless Internet\",Kitchen,\"Free Parking ...</td>\n",
              "      <td>NaN</td>\n",
              "      <td>$250.00</td>\n",
              "      <td>NaN</td>\n",
              "      <td>NaN</td>\n",
              "      <td>NaN</td>\n",
              "      <td>$35.00</td>\n",
              "      <td>1</td>\n",
              "      <td>$0.00</td>\n",
              "      <td>2</td>\n",
              "      <td>1125</td>\n",
              "      <td>2 weeks ago</td>\n",
              "      <td>NaN</td>\n",
              "      <td>0</td>\n",
              "      <td>0</td>\n",
              "      <td>0</td>\n",
              "      <td>0</td>\n",
              "      <td>2016-09-06</td>\n",
              "      <td>0</td>\n",
              "      <td>NaN</td>\n",
              "      <td>NaN</td>\n",
              "      <td>NaN</td>\n",
              "      <td>NaN</td>\n",
              "      <td>NaN</td>\n",
              "      <td>NaN</td>\n",
              "      <td>NaN</td>\n",
              "      <td>NaN</td>\n",
              "      <td>NaN</td>\n",
              "      <td>f</td>\n",
              "      <td>NaN</td>\n",
              "      <td>NaN</td>\n",
              "      <td>f</td>\n",
              "      <td>moderate</td>\n",
              "      <td>f</td>\n",
              "      <td>f</td>\n",
              "      <td>1</td>\n",
              "      <td>NaN</td>\n",
              "    </tr>\n",
              "    <tr>\n",
              "      <th>1</th>\n",
              "      <td>3075044</td>\n",
              "      <td>https://www.airbnb.com/rooms/3075044</td>\n",
              "      <td>20160906204935</td>\n",
              "      <td>2016-09-07</td>\n",
              "      <td>Charming room in pet friendly apt</td>\n",
              "      <td>Charming and quiet room in a second floor 1910...</td>\n",
              "      <td>Small but cozy and quite room with a full size...</td>\n",
              "      <td>Charming and quiet room in a second floor 1910...</td>\n",
              "      <td>none</td>\n",
              "      <td>The room is in Roslindale, a diverse and prima...</td>\n",
              "      <td>If you don't have a US cell phone, you can tex...</td>\n",
              "      <td>Plenty of safe street parking. Bus stops a few...</td>\n",
              "      <td>Apt has one more bedroom (which I use) and lar...</td>\n",
              "      <td>If I am at home, I am likely working in my hom...</td>\n",
              "      <td>Pet friendly but please confirm with me if the...</td>\n",
              "      <td>https://a1.muscache.com/im/pictures/39327812/d...</td>\n",
              "      <td>https://a1.muscache.com/im/pictures/39327812/d...</td>\n",
              "      <td>https://a1.muscache.com/im/pictures/39327812/d...</td>\n",
              "      <td>https://a1.muscache.com/im/pictures/39327812/d...</td>\n",
              "      <td>2572247</td>\n",
              "      <td>https://www.airbnb.com/users/show/2572247</td>\n",
              "      <td>Andrea</td>\n",
              "      <td>2012-06-07</td>\n",
              "      <td>Boston, Massachusetts, United States</td>\n",
              "      <td>I live in Boston and I like to travel and have...</td>\n",
              "      <td>within an hour</td>\n",
              "      <td>100%</td>\n",
              "      <td>100%</td>\n",
              "      <td>f</td>\n",
              "      <td>https://a2.muscache.com/im/users/2572247/profi...</td>\n",
              "      <td>https://a2.muscache.com/im/users/2572247/profi...</td>\n",
              "      <td>Roslindale</td>\n",
              "      <td>1</td>\n",
              "      <td>1</td>\n",
              "      <td>['email', 'phone', 'facebook', 'linkedin', 'am...</td>\n",
              "      <td>t</td>\n",
              "      <td>t</td>\n",
              "      <td>Pinehurst Street, Boston, MA 02131, United States</td>\n",
              "      <td>Roslindale</td>\n",
              "      <td>Roslindale</td>\n",
              "      <td>...</td>\n",
              "      <td>1.0</td>\n",
              "      <td>1.0</td>\n",
              "      <td>Real Bed</td>\n",
              "      <td>{TV,Internet,\"Wireless Internet\",\"Air Conditio...</td>\n",
              "      <td>NaN</td>\n",
              "      <td>$65.00</td>\n",
              "      <td>$400.00</td>\n",
              "      <td>NaN</td>\n",
              "      <td>$95.00</td>\n",
              "      <td>$10.00</td>\n",
              "      <td>0</td>\n",
              "      <td>$0.00</td>\n",
              "      <td>2</td>\n",
              "      <td>15</td>\n",
              "      <td>a week ago</td>\n",
              "      <td>NaN</td>\n",
              "      <td>26</td>\n",
              "      <td>54</td>\n",
              "      <td>84</td>\n",
              "      <td>359</td>\n",
              "      <td>2016-09-06</td>\n",
              "      <td>36</td>\n",
              "      <td>2014-06-01</td>\n",
              "      <td>2016-08-13</td>\n",
              "      <td>94.0</td>\n",
              "      <td>10.0</td>\n",
              "      <td>9.0</td>\n",
              "      <td>10.0</td>\n",
              "      <td>10.0</td>\n",
              "      <td>9.0</td>\n",
              "      <td>9.0</td>\n",
              "      <td>f</td>\n",
              "      <td>NaN</td>\n",
              "      <td>NaN</td>\n",
              "      <td>t</td>\n",
              "      <td>moderate</td>\n",
              "      <td>f</td>\n",
              "      <td>f</td>\n",
              "      <td>1</td>\n",
              "      <td>1.30</td>\n",
              "    </tr>\n",
              "    <tr>\n",
              "      <th>2</th>\n",
              "      <td>6976</td>\n",
              "      <td>https://www.airbnb.com/rooms/6976</td>\n",
              "      <td>20160906204935</td>\n",
              "      <td>2016-09-07</td>\n",
              "      <td>Mexican Folk Art Haven in Boston</td>\n",
              "      <td>Come stay with a friendly, middle-aged guy in ...</td>\n",
              "      <td>Come stay with a friendly, middle-aged guy in ...</td>\n",
              "      <td>Come stay with a friendly, middle-aged guy in ...</td>\n",
              "      <td>none</td>\n",
              "      <td>The LOCATION: Roslindale is a safe and diverse...</td>\n",
              "      <td>I am in a scenic part of Boston with a couple ...</td>\n",
              "      <td>PUBLIC TRANSPORTATION: From the house, quick p...</td>\n",
              "      <td>I am living in the apartment during your stay,...</td>\n",
              "      <td>ABOUT ME: I'm a laid-back, friendly, unmarried...</td>\n",
              "      <td>I encourage you to use my kitchen, cooking and...</td>\n",
              "      <td>https://a2.muscache.com/im/pictures/6ae8335d-9...</td>\n",
              "      <td>https://a2.muscache.com/im/pictures/6ae8335d-9...</td>\n",
              "      <td>https://a2.muscache.com/im/pictures/6ae8335d-9...</td>\n",
              "      <td>https://a2.muscache.com/im/pictures/6ae8335d-9...</td>\n",
              "      <td>16701</td>\n",
              "      <td>https://www.airbnb.com/users/show/16701</td>\n",
              "      <td>Phil</td>\n",
              "      <td>2009-05-11</td>\n",
              "      <td>Boston, Massachusetts, United States</td>\n",
              "      <td>I am a middle-aged, single male with a wide ra...</td>\n",
              "      <td>within a few hours</td>\n",
              "      <td>100%</td>\n",
              "      <td>88%</td>\n",
              "      <td>t</td>\n",
              "      <td>https://a2.muscache.com/im/users/16701/profile...</td>\n",
              "      <td>https://a2.muscache.com/im/users/16701/profile...</td>\n",
              "      <td>Roslindale</td>\n",
              "      <td>1</td>\n",
              "      <td>1</td>\n",
              "      <td>['email', 'phone', 'reviews', 'jumio']</td>\n",
              "      <td>t</td>\n",
              "      <td>t</td>\n",
              "      <td>Ardale St., Boston, MA 02131, United States</td>\n",
              "      <td>Roslindale</td>\n",
              "      <td>Roslindale</td>\n",
              "      <td>...</td>\n",
              "      <td>1.0</td>\n",
              "      <td>1.0</td>\n",
              "      <td>Real Bed</td>\n",
              "      <td>{TV,\"Cable TV\",\"Wireless Internet\",\"Air Condit...</td>\n",
              "      <td>NaN</td>\n",
              "      <td>$65.00</td>\n",
              "      <td>$395.00</td>\n",
              "      <td>$1,350.00</td>\n",
              "      <td>NaN</td>\n",
              "      <td>NaN</td>\n",
              "      <td>1</td>\n",
              "      <td>$20.00</td>\n",
              "      <td>3</td>\n",
              "      <td>45</td>\n",
              "      <td>5 days ago</td>\n",
              "      <td>NaN</td>\n",
              "      <td>19</td>\n",
              "      <td>46</td>\n",
              "      <td>61</td>\n",
              "      <td>319</td>\n",
              "      <td>2016-09-06</td>\n",
              "      <td>41</td>\n",
              "      <td>2009-07-19</td>\n",
              "      <td>2016-08-05</td>\n",
              "      <td>98.0</td>\n",
              "      <td>10.0</td>\n",
              "      <td>9.0</td>\n",
              "      <td>10.0</td>\n",
              "      <td>10.0</td>\n",
              "      <td>9.0</td>\n",
              "      <td>10.0</td>\n",
              "      <td>f</td>\n",
              "      <td>NaN</td>\n",
              "      <td>NaN</td>\n",
              "      <td>f</td>\n",
              "      <td>moderate</td>\n",
              "      <td>t</td>\n",
              "      <td>f</td>\n",
              "      <td>1</td>\n",
              "      <td>0.47</td>\n",
              "    </tr>\n",
              "    <tr>\n",
              "      <th>3</th>\n",
              "      <td>1436513</td>\n",
              "      <td>https://www.airbnb.com/rooms/1436513</td>\n",
              "      <td>20160906204935</td>\n",
              "      <td>2016-09-07</td>\n",
              "      <td>Spacious Sunny Bedroom Suite in Historic Home</td>\n",
              "      <td>Come experience the comforts of home away from...</td>\n",
              "      <td>Most places you find in Boston are small howev...</td>\n",
              "      <td>Come experience the comforts of home away from...</td>\n",
              "      <td>none</td>\n",
              "      <td>Roslindale is a lovely little neighborhood loc...</td>\n",
              "      <td>Please be mindful of the property as it is old...</td>\n",
              "      <td>There are buses that stop right in front of th...</td>\n",
              "      <td>The basement has a washer dryer and gym area. ...</td>\n",
              "      <td>We do live in the house therefore might be som...</td>\n",
              "      <td>- The bathroom and house are shared so please ...</td>\n",
              "      <td>https://a2.muscache.com/im/pictures/39764190-1...</td>\n",
              "      <td>https://a2.muscache.com/im/pictures/39764190-1...</td>\n",
              "      <td>https://a2.muscache.com/im/pictures/39764190-1...</td>\n",
              "      <td>https://a2.muscache.com/im/pictures/39764190-1...</td>\n",
              "      <td>6031442</td>\n",
              "      <td>https://www.airbnb.com/users/show/6031442</td>\n",
              "      <td>Meghna</td>\n",
              "      <td>2013-04-21</td>\n",
              "      <td>Boston, Massachusetts, United States</td>\n",
              "      <td>My husband and I live on the property.  He’s a...</td>\n",
              "      <td>within a few hours</td>\n",
              "      <td>100%</td>\n",
              "      <td>50%</td>\n",
              "      <td>f</td>\n",
              "      <td>https://a2.muscache.com/im/pictures/5d430cde-7...</td>\n",
              "      <td>https://a2.muscache.com/im/pictures/5d430cde-7...</td>\n",
              "      <td>NaN</td>\n",
              "      <td>1</td>\n",
              "      <td>1</td>\n",
              "      <td>['email', 'phone', 'reviews']</td>\n",
              "      <td>t</td>\n",
              "      <td>f</td>\n",
              "      <td>Boston, MA, United States</td>\n",
              "      <td>NaN</td>\n",
              "      <td>Roslindale</td>\n",
              "      <td>...</td>\n",
              "      <td>1.0</td>\n",
              "      <td>2.0</td>\n",
              "      <td>Real Bed</td>\n",
              "      <td>{TV,Internet,\"Wireless Internet\",\"Air Conditio...</td>\n",
              "      <td>NaN</td>\n",
              "      <td>$75.00</td>\n",
              "      <td>NaN</td>\n",
              "      <td>NaN</td>\n",
              "      <td>$100.00</td>\n",
              "      <td>$50.00</td>\n",
              "      <td>2</td>\n",
              "      <td>$25.00</td>\n",
              "      <td>1</td>\n",
              "      <td>1125</td>\n",
              "      <td>a week ago</td>\n",
              "      <td>NaN</td>\n",
              "      <td>6</td>\n",
              "      <td>16</td>\n",
              "      <td>26</td>\n",
              "      <td>98</td>\n",
              "      <td>2016-09-06</td>\n",
              "      <td>1</td>\n",
              "      <td>2016-08-28</td>\n",
              "      <td>2016-08-28</td>\n",
              "      <td>100.0</td>\n",
              "      <td>10.0</td>\n",
              "      <td>10.0</td>\n",
              "      <td>10.0</td>\n",
              "      <td>10.0</td>\n",
              "      <td>10.0</td>\n",
              "      <td>10.0</td>\n",
              "      <td>f</td>\n",
              "      <td>NaN</td>\n",
              "      <td>NaN</td>\n",
              "      <td>f</td>\n",
              "      <td>moderate</td>\n",
              "      <td>f</td>\n",
              "      <td>f</td>\n",
              "      <td>1</td>\n",
              "      <td>1.00</td>\n",
              "    </tr>\n",
              "    <tr>\n",
              "      <th>4</th>\n",
              "      <td>7651065</td>\n",
              "      <td>https://www.airbnb.com/rooms/7651065</td>\n",
              "      <td>20160906204935</td>\n",
              "      <td>2016-09-07</td>\n",
              "      <td>Come Home to Boston</td>\n",
              "      <td>My comfy, clean and relaxing home is one block...</td>\n",
              "      <td>Clean, attractive, private room, one block fro...</td>\n",
              "      <td>My comfy, clean and relaxing home is one block...</td>\n",
              "      <td>none</td>\n",
              "      <td>I love the proximity to downtown, the neighbor...</td>\n",
              "      <td>I have one roommate who lives on the lower lev...</td>\n",
              "      <td>From Logan Airport  and South Station you have...</td>\n",
              "      <td>You will have access to the front and side por...</td>\n",
              "      <td>I love my city and really enjoy sharing it wit...</td>\n",
              "      <td>Please no smoking in the house, porch or on th...</td>\n",
              "      <td>https://a1.muscache.com/im/pictures/97154760/8...</td>\n",
              "      <td>https://a1.muscache.com/im/pictures/97154760/8...</td>\n",
              "      <td>https://a1.muscache.com/im/pictures/97154760/8...</td>\n",
              "      <td>https://a1.muscache.com/im/pictures/97154760/8...</td>\n",
              "      <td>15396970</td>\n",
              "      <td>https://www.airbnb.com/users/show/15396970</td>\n",
              "      <td>Linda</td>\n",
              "      <td>2014-05-11</td>\n",
              "      <td>Boston, Massachusetts, United States</td>\n",
              "      <td>I work full time for a public school district....</td>\n",
              "      <td>within an hour</td>\n",
              "      <td>100%</td>\n",
              "      <td>100%</td>\n",
              "      <td>t</td>\n",
              "      <td>https://a0.muscache.com/im/users/15396970/prof...</td>\n",
              "      <td>https://a0.muscache.com/im/users/15396970/prof...</td>\n",
              "      <td>Roslindale</td>\n",
              "      <td>1</td>\n",
              "      <td>1</td>\n",
              "      <td>['email', 'phone', 'reviews', 'kba']</td>\n",
              "      <td>t</td>\n",
              "      <td>t</td>\n",
              "      <td>Durnell Avenue, Boston, MA 02131, United States</td>\n",
              "      <td>Roslindale</td>\n",
              "      <td>Roslindale</td>\n",
              "      <td>...</td>\n",
              "      <td>1.0</td>\n",
              "      <td>2.0</td>\n",
              "      <td>Real Bed</td>\n",
              "      <td>{Internet,\"Wireless Internet\",\"Air Conditionin...</td>\n",
              "      <td>NaN</td>\n",
              "      <td>$79.00</td>\n",
              "      <td>NaN</td>\n",
              "      <td>NaN</td>\n",
              "      <td>NaN</td>\n",
              "      <td>$15.00</td>\n",
              "      <td>1</td>\n",
              "      <td>$0.00</td>\n",
              "      <td>2</td>\n",
              "      <td>31</td>\n",
              "      <td>2 weeks ago</td>\n",
              "      <td>NaN</td>\n",
              "      <td>13</td>\n",
              "      <td>34</td>\n",
              "      <td>59</td>\n",
              "      <td>334</td>\n",
              "      <td>2016-09-06</td>\n",
              "      <td>29</td>\n",
              "      <td>2015-08-18</td>\n",
              "      <td>2016-09-01</td>\n",
              "      <td>99.0</td>\n",
              "      <td>10.0</td>\n",
              "      <td>10.0</td>\n",
              "      <td>10.0</td>\n",
              "      <td>10.0</td>\n",
              "      <td>9.0</td>\n",
              "      <td>10.0</td>\n",
              "      <td>f</td>\n",
              "      <td>NaN</td>\n",
              "      <td>NaN</td>\n",
              "      <td>f</td>\n",
              "      <td>flexible</td>\n",
              "      <td>f</td>\n",
              "      <td>f</td>\n",
              "      <td>1</td>\n",
              "      <td>2.25</td>\n",
              "    </tr>\n",
              "  </tbody>\n",
              "</table>\n",
              "<p>5 rows × 95 columns</p>\n",
              "</div>"
            ],
            "text/plain": [
              "         id  ... reviews_per_month\n",
              "0  12147973  ...               NaN\n",
              "1   3075044  ...              1.30\n",
              "2      6976  ...              0.47\n",
              "3   1436513  ...              1.00\n",
              "4   7651065  ...              2.25\n",
              "\n",
              "[5 rows x 95 columns]"
            ]
          },
          "metadata": {
            "tags": []
          },
          "execution_count": 9
        }
      ]
    },
    {
      "cell_type": "code",
      "metadata": {
        "id": "k0gjMvztJ1aC",
        "colab_type": "code",
        "outputId": "c8e7443d-8597-4d57-b798-ff53c6207637",
        "colab": {
          "base_uri": "https://localhost:8080/",
          "height": 334
        }
      },
      "source": [
        "print(df_listings.shape)\n",
        "df_listings.describe()"
      ],
      "execution_count": 0,
      "outputs": [
        {
          "output_type": "stream",
          "text": [
            "(3585, 95)\n"
          ],
          "name": "stdout"
        },
        {
          "output_type": "execute_result",
          "data": {
            "text/html": [
              "<div>\n",
              "<style scoped>\n",
              "    .dataframe tbody tr th:only-of-type {\n",
              "        vertical-align: middle;\n",
              "    }\n",
              "\n",
              "    .dataframe tbody tr th {\n",
              "        vertical-align: top;\n",
              "    }\n",
              "\n",
              "    .dataframe thead th {\n",
              "        text-align: right;\n",
              "    }\n",
              "</style>\n",
              "<table border=\"1\" class=\"dataframe\">\n",
              "  <thead>\n",
              "    <tr style=\"text-align: right;\">\n",
              "      <th></th>\n",
              "      <th>id</th>\n",
              "      <th>scrape_id</th>\n",
              "      <th>host_id</th>\n",
              "      <th>host_listings_count</th>\n",
              "      <th>host_total_listings_count</th>\n",
              "      <th>neighbourhood_group_cleansed</th>\n",
              "      <th>latitude</th>\n",
              "      <th>longitude</th>\n",
              "      <th>accommodates</th>\n",
              "      <th>bathrooms</th>\n",
              "      <th>bedrooms</th>\n",
              "      <th>beds</th>\n",
              "      <th>square_feet</th>\n",
              "      <th>guests_included</th>\n",
              "      <th>minimum_nights</th>\n",
              "      <th>maximum_nights</th>\n",
              "      <th>has_availability</th>\n",
              "      <th>availability_30</th>\n",
              "      <th>availability_60</th>\n",
              "      <th>availability_90</th>\n",
              "      <th>availability_365</th>\n",
              "      <th>number_of_reviews</th>\n",
              "      <th>review_scores_rating</th>\n",
              "      <th>review_scores_accuracy</th>\n",
              "      <th>review_scores_cleanliness</th>\n",
              "      <th>review_scores_checkin</th>\n",
              "      <th>review_scores_communication</th>\n",
              "      <th>review_scores_location</th>\n",
              "      <th>review_scores_value</th>\n",
              "      <th>license</th>\n",
              "      <th>jurisdiction_names</th>\n",
              "      <th>calculated_host_listings_count</th>\n",
              "      <th>reviews_per_month</th>\n",
              "    </tr>\n",
              "  </thead>\n",
              "  <tbody>\n",
              "    <tr>\n",
              "      <th>count</th>\n",
              "      <td>3.585000e+03</td>\n",
              "      <td>3.585000e+03</td>\n",
              "      <td>3.585000e+03</td>\n",
              "      <td>3585.000000</td>\n",
              "      <td>3585.000000</td>\n",
              "      <td>0.0</td>\n",
              "      <td>3585.000000</td>\n",
              "      <td>3585.000000</td>\n",
              "      <td>3585.000000</td>\n",
              "      <td>3571.000000</td>\n",
              "      <td>3575.000000</td>\n",
              "      <td>3576.000000</td>\n",
              "      <td>56.000000</td>\n",
              "      <td>3585.000000</td>\n",
              "      <td>3585.000000</td>\n",
              "      <td>3.585000e+03</td>\n",
              "      <td>0.0</td>\n",
              "      <td>3585.00000</td>\n",
              "      <td>3585.000000</td>\n",
              "      <td>3585.000000</td>\n",
              "      <td>3585.000000</td>\n",
              "      <td>3585.000000</td>\n",
              "      <td>2772.000000</td>\n",
              "      <td>2762.000000</td>\n",
              "      <td>2767.000000</td>\n",
              "      <td>2765.000000</td>\n",
              "      <td>2767.000000</td>\n",
              "      <td>2763.000000</td>\n",
              "      <td>2764.000000</td>\n",
              "      <td>0.0</td>\n",
              "      <td>0.0</td>\n",
              "      <td>3585.000000</td>\n",
              "      <td>2829.000000</td>\n",
              "    </tr>\n",
              "    <tr>\n",
              "      <th>mean</th>\n",
              "      <td>8.440875e+06</td>\n",
              "      <td>2.016091e+13</td>\n",
              "      <td>2.492311e+07</td>\n",
              "      <td>58.902371</td>\n",
              "      <td>58.902371</td>\n",
              "      <td>NaN</td>\n",
              "      <td>42.340032</td>\n",
              "      <td>-71.084818</td>\n",
              "      <td>3.041283</td>\n",
              "      <td>1.221647</td>\n",
              "      <td>1.255944</td>\n",
              "      <td>1.609060</td>\n",
              "      <td>858.464286</td>\n",
              "      <td>1.429847</td>\n",
              "      <td>3.171269</td>\n",
              "      <td>2.872584e+04</td>\n",
              "      <td>NaN</td>\n",
              "      <td>8.64993</td>\n",
              "      <td>21.833194</td>\n",
              "      <td>38.558159</td>\n",
              "      <td>179.346444</td>\n",
              "      <td>19.044630</td>\n",
              "      <td>91.916667</td>\n",
              "      <td>9.431571</td>\n",
              "      <td>9.258041</td>\n",
              "      <td>9.646293</td>\n",
              "      <td>9.646549</td>\n",
              "      <td>9.414043</td>\n",
              "      <td>9.168234</td>\n",
              "      <td>NaN</td>\n",
              "      <td>NaN</td>\n",
              "      <td>12.733891</td>\n",
              "      <td>1.970908</td>\n",
              "    </tr>\n",
              "    <tr>\n",
              "      <th>std</th>\n",
              "      <td>4.500787e+06</td>\n",
              "      <td>8.516813e-01</td>\n",
              "      <td>2.292781e+07</td>\n",
              "      <td>171.119663</td>\n",
              "      <td>171.119663</td>\n",
              "      <td>NaN</td>\n",
              "      <td>0.024403</td>\n",
              "      <td>0.031565</td>\n",
              "      <td>1.778929</td>\n",
              "      <td>0.501487</td>\n",
              "      <td>0.753060</td>\n",
              "      <td>1.011745</td>\n",
              "      <td>608.874310</td>\n",
              "      <td>1.056787</td>\n",
              "      <td>8.874133</td>\n",
              "      <td>1.670136e+06</td>\n",
              "      <td>NaN</td>\n",
              "      <td>10.43533</td>\n",
              "      <td>21.860966</td>\n",
              "      <td>33.158272</td>\n",
              "      <td>142.136180</td>\n",
              "      <td>35.571658</td>\n",
              "      <td>9.531686</td>\n",
              "      <td>0.931863</td>\n",
              "      <td>1.168977</td>\n",
              "      <td>0.762753</td>\n",
              "      <td>0.735507</td>\n",
              "      <td>0.903436</td>\n",
              "      <td>1.011116</td>\n",
              "      <td>NaN</td>\n",
              "      <td>NaN</td>\n",
              "      <td>29.415076</td>\n",
              "      <td>2.120561</td>\n",
              "    </tr>\n",
              "    <tr>\n",
              "      <th>min</th>\n",
              "      <td>3.353000e+03</td>\n",
              "      <td>2.016091e+13</td>\n",
              "      <td>4.240000e+03</td>\n",
              "      <td>0.000000</td>\n",
              "      <td>0.000000</td>\n",
              "      <td>NaN</td>\n",
              "      <td>42.235942</td>\n",
              "      <td>-71.171789</td>\n",
              "      <td>1.000000</td>\n",
              "      <td>0.000000</td>\n",
              "      <td>0.000000</td>\n",
              "      <td>0.000000</td>\n",
              "      <td>0.000000</td>\n",
              "      <td>0.000000</td>\n",
              "      <td>1.000000</td>\n",
              "      <td>1.000000e+00</td>\n",
              "      <td>NaN</td>\n",
              "      <td>0.00000</td>\n",
              "      <td>0.000000</td>\n",
              "      <td>0.000000</td>\n",
              "      <td>0.000000</td>\n",
              "      <td>0.000000</td>\n",
              "      <td>20.000000</td>\n",
              "      <td>2.000000</td>\n",
              "      <td>2.000000</td>\n",
              "      <td>2.000000</td>\n",
              "      <td>4.000000</td>\n",
              "      <td>2.000000</td>\n",
              "      <td>2.000000</td>\n",
              "      <td>NaN</td>\n",
              "      <td>NaN</td>\n",
              "      <td>1.000000</td>\n",
              "      <td>0.010000</td>\n",
              "    </tr>\n",
              "    <tr>\n",
              "      <th>25%</th>\n",
              "      <td>4.679319e+06</td>\n",
              "      <td>2.016091e+13</td>\n",
              "      <td>6.103425e+06</td>\n",
              "      <td>1.000000</td>\n",
              "      <td>1.000000</td>\n",
              "      <td>NaN</td>\n",
              "      <td>42.329995</td>\n",
              "      <td>-71.105083</td>\n",
              "      <td>2.000000</td>\n",
              "      <td>1.000000</td>\n",
              "      <td>1.000000</td>\n",
              "      <td>1.000000</td>\n",
              "      <td>415.000000</td>\n",
              "      <td>1.000000</td>\n",
              "      <td>1.000000</td>\n",
              "      <td>3.650000e+02</td>\n",
              "      <td>NaN</td>\n",
              "      <td>0.00000</td>\n",
              "      <td>0.000000</td>\n",
              "      <td>0.000000</td>\n",
              "      <td>19.000000</td>\n",
              "      <td>1.000000</td>\n",
              "      <td>89.000000</td>\n",
              "      <td>9.000000</td>\n",
              "      <td>9.000000</td>\n",
              "      <td>9.000000</td>\n",
              "      <td>9.000000</td>\n",
              "      <td>9.000000</td>\n",
              "      <td>9.000000</td>\n",
              "      <td>NaN</td>\n",
              "      <td>NaN</td>\n",
              "      <td>1.000000</td>\n",
              "      <td>0.480000</td>\n",
              "    </tr>\n",
              "    <tr>\n",
              "      <th>50%</th>\n",
              "      <td>8.577620e+06</td>\n",
              "      <td>2.016091e+13</td>\n",
              "      <td>1.928100e+07</td>\n",
              "      <td>2.000000</td>\n",
              "      <td>2.000000</td>\n",
              "      <td>NaN</td>\n",
              "      <td>42.345201</td>\n",
              "      <td>-71.078429</td>\n",
              "      <td>2.000000</td>\n",
              "      <td>1.000000</td>\n",
              "      <td>1.000000</td>\n",
              "      <td>1.000000</td>\n",
              "      <td>825.000000</td>\n",
              "      <td>1.000000</td>\n",
              "      <td>2.000000</td>\n",
              "      <td>1.125000e+03</td>\n",
              "      <td>NaN</td>\n",
              "      <td>4.00000</td>\n",
              "      <td>16.000000</td>\n",
              "      <td>37.000000</td>\n",
              "      <td>179.000000</td>\n",
              "      <td>5.000000</td>\n",
              "      <td>94.000000</td>\n",
              "      <td>10.000000</td>\n",
              "      <td>10.000000</td>\n",
              "      <td>10.000000</td>\n",
              "      <td>10.000000</td>\n",
              "      <td>10.000000</td>\n",
              "      <td>9.000000</td>\n",
              "      <td>NaN</td>\n",
              "      <td>NaN</td>\n",
              "      <td>2.000000</td>\n",
              "      <td>1.170000</td>\n",
              "    </tr>\n",
              "    <tr>\n",
              "      <th>75%</th>\n",
              "      <td>1.278953e+07</td>\n",
              "      <td>2.016091e+13</td>\n",
              "      <td>3.622147e+07</td>\n",
              "      <td>7.000000</td>\n",
              "      <td>7.000000</td>\n",
              "      <td>NaN</td>\n",
              "      <td>42.354685</td>\n",
              "      <td>-71.062155</td>\n",
              "      <td>4.000000</td>\n",
              "      <td>1.000000</td>\n",
              "      <td>2.000000</td>\n",
              "      <td>2.000000</td>\n",
              "      <td>1200.000000</td>\n",
              "      <td>1.000000</td>\n",
              "      <td>3.000000</td>\n",
              "      <td>1.125000e+03</td>\n",
              "      <td>NaN</td>\n",
              "      <td>15.00000</td>\n",
              "      <td>40.000000</td>\n",
              "      <td>68.000000</td>\n",
              "      <td>325.000000</td>\n",
              "      <td>21.000000</td>\n",
              "      <td>98.250000</td>\n",
              "      <td>10.000000</td>\n",
              "      <td>10.000000</td>\n",
              "      <td>10.000000</td>\n",
              "      <td>10.000000</td>\n",
              "      <td>10.000000</td>\n",
              "      <td>10.000000</td>\n",
              "      <td>NaN</td>\n",
              "      <td>NaN</td>\n",
              "      <td>6.000000</td>\n",
              "      <td>2.720000</td>\n",
              "    </tr>\n",
              "    <tr>\n",
              "      <th>max</th>\n",
              "      <td>1.493346e+07</td>\n",
              "      <td>2.016091e+13</td>\n",
              "      <td>9.385411e+07</td>\n",
              "      <td>749.000000</td>\n",
              "      <td>749.000000</td>\n",
              "      <td>NaN</td>\n",
              "      <td>42.389982</td>\n",
              "      <td>-71.000100</td>\n",
              "      <td>16.000000</td>\n",
              "      <td>6.000000</td>\n",
              "      <td>5.000000</td>\n",
              "      <td>16.000000</td>\n",
              "      <td>2400.000000</td>\n",
              "      <td>14.000000</td>\n",
              "      <td>300.000000</td>\n",
              "      <td>1.000000e+08</td>\n",
              "      <td>NaN</td>\n",
              "      <td>30.00000</td>\n",
              "      <td>60.000000</td>\n",
              "      <td>90.000000</td>\n",
              "      <td>365.000000</td>\n",
              "      <td>404.000000</td>\n",
              "      <td>100.000000</td>\n",
              "      <td>10.000000</td>\n",
              "      <td>10.000000</td>\n",
              "      <td>10.000000</td>\n",
              "      <td>10.000000</td>\n",
              "      <td>10.000000</td>\n",
              "      <td>10.000000</td>\n",
              "      <td>NaN</td>\n",
              "      <td>NaN</td>\n",
              "      <td>136.000000</td>\n",
              "      <td>19.150000</td>\n",
              "    </tr>\n",
              "  </tbody>\n",
              "</table>\n",
              "</div>"
            ],
            "text/plain": [
              "                 id  ...  reviews_per_month\n",
              "count  3.585000e+03  ...        2829.000000\n",
              "mean   8.440875e+06  ...           1.970908\n",
              "std    4.500787e+06  ...           2.120561\n",
              "min    3.353000e+03  ...           0.010000\n",
              "25%    4.679319e+06  ...           0.480000\n",
              "50%    8.577620e+06  ...           1.170000\n",
              "75%    1.278953e+07  ...           2.720000\n",
              "max    1.493346e+07  ...          19.150000\n",
              "\n",
              "[8 rows x 33 columns]"
            ]
          },
          "metadata": {
            "tags": []
          },
          "execution_count": 10
        }
      ]
    },
    {
      "cell_type": "code",
      "metadata": {
        "id": "Cc3iJY6jMNub",
        "colab_type": "code",
        "outputId": "9a12746b-0fb6-4cd8-e52b-194bcad17cbf",
        "colab": {
          "base_uri": "https://localhost:8080/",
          "height": 54
        }
      },
      "source": [
        "\n",
        "# Listing the columns in Listing data set\n",
        "columns_listings= list(df_listings.columns)\n",
        "print(columns_listings)"
      ],
      "execution_count": 0,
      "outputs": [
        {
          "output_type": "stream",
          "text": [
            "['id', 'listing_url', 'scrape_id', 'last_scraped', 'name', 'summary', 'space', 'description', 'experiences_offered', 'neighborhood_overview', 'notes', 'transit', 'access', 'interaction', 'house_rules', 'thumbnail_url', 'medium_url', 'picture_url', 'xl_picture_url', 'host_id', 'host_url', 'host_name', 'host_since', 'host_location', 'host_about', 'host_response_time', 'host_response_rate', 'host_acceptance_rate', 'host_is_superhost', 'host_thumbnail_url', 'host_picture_url', 'host_neighbourhood', 'host_listings_count', 'host_total_listings_count', 'host_verifications', 'host_has_profile_pic', 'host_identity_verified', 'street', 'neighbourhood', 'neighbourhood_cleansed', 'neighbourhood_group_cleansed', 'city', 'state', 'zipcode', 'market', 'smart_location', 'country_code', 'country', 'latitude', 'longitude', 'is_location_exact', 'property_type', 'room_type', 'accommodates', 'bathrooms', 'bedrooms', 'beds', 'bed_type', 'amenities', 'square_feet', 'price', 'weekly_price', 'monthly_price', 'security_deposit', 'cleaning_fee', 'guests_included', 'extra_people', 'minimum_nights', 'maximum_nights', 'calendar_updated', 'has_availability', 'availability_30', 'availability_60', 'availability_90', 'availability_365', 'calendar_last_scraped', 'number_of_reviews', 'first_review', 'last_review', 'review_scores_rating', 'review_scores_accuracy', 'review_scores_cleanliness', 'review_scores_checkin', 'review_scores_communication', 'review_scores_location', 'review_scores_value', 'requires_license', 'license', 'jurisdiction_names', 'instant_bookable', 'cancellation_policy', 'require_guest_profile_picture', 'require_guest_phone_verification', 'calculated_host_listings_count', 'reviews_per_month']\n"
          ],
          "name": "stdout"
        }
      ]
    },
    {
      "cell_type": "markdown",
      "metadata": {
        "id": "G4wqGNSbPJBr",
        "colab_type": "text"
      },
      "source": [
        "Here is where we will outline our 3 questions we hope to answer:\n",
        "\n",
        "1. Is there a spatial discrepancy in price based on neighborhood?\n",
        "\n",
        "2. What is the seasonality of price in Boston?\n"
      ]
    },
    {
      "cell_type": "code",
      "metadata": {
        "id": "QJoFmB0PPePW",
        "colab_type": "code",
        "outputId": "b4270aa8-bd6c-4ce8-a198-87a42f621e38",
        "colab": {
          "base_uri": "https://localhost:8080/",
          "height": 221
        }
      },
      "source": [
        "df_listings.isnull().sum().sort_values()"
      ],
      "execution_count": 0,
      "outputs": [
        {
          "output_type": "execute_result",
          "data": {
            "text/plain": [
              "id                                 0\n",
              "host_identity_verified             0\n",
              "street                             0\n",
              "neighbourhood_cleansed             0\n",
              "state                              0\n",
              "                                ... \n",
              "square_feet                     3529\n",
              "has_availability                3585\n",
              "license                         3585\n",
              "jurisdiction_names              3585\n",
              "neighbourhood_group_cleansed    3585\n",
              "Length: 95, dtype: int64"
            ]
          },
          "metadata": {
            "tags": []
          },
          "execution_count": 12
        }
      ]
    },
    {
      "cell_type": "code",
      "metadata": {
        "id": "hbDDayukPyFE",
        "colab_type": "code",
        "outputId": "4ef6a14d-b687-4055-ee51-f1fd906b2727",
        "colab": {
          "base_uri": "https://localhost:8080/",
          "height": 221
        }
      },
      "source": [
        "\n",
        "\n",
        "#All values in these columns are null values and not helpful.\n",
        "number_missing = df_listings.isnull().sum()\n",
        "percent_missing_by_column = (number_missing/len(df_listings))*100\n",
        "percent_missing_by_column.sort_values(ascending=False)"
      ],
      "execution_count": 0,
      "outputs": [
        {
          "output_type": "execute_result",
          "data": {
            "text/plain": [
              "neighbourhood_group_cleansed    100.000000\n",
              "jurisdiction_names              100.000000\n",
              "license                         100.000000\n",
              "has_availability                100.000000\n",
              "square_feet                      98.437936\n",
              "                                   ...    \n",
              "state                             0.000000\n",
              "neighbourhood_cleansed            0.000000\n",
              "street                            0.000000\n",
              "host_identity_verified            0.000000\n",
              "id                                0.000000\n",
              "Length: 95, dtype: float64"
            ]
          },
          "metadata": {
            "tags": []
          },
          "execution_count": 13
        }
      ]
    },
    {
      "cell_type": "code",
      "metadata": {
        "id": "DDGf3t9LQChn",
        "colab_type": "code",
        "outputId": "6886a93e-e0d4-45a8-ff8f-987844f9be4f",
        "colab": {
          "base_uri": "https://localhost:8080/",
          "height": 312
        }
      },
      "source": [
        "plt.hist(percent_missing_by_column,bins=20)\n",
        "plt.xlabel('Percent of data is missing')\n",
        "plt.ylabel('Number of Columns')\n",
        "plt.title('Data Missing Per Column')"
      ],
      "execution_count": 0,
      "outputs": [
        {
          "output_type": "execute_result",
          "data": {
            "text/plain": [
              "Text(0.5, 1.0, 'Data Missing Per Column')"
            ]
          },
          "metadata": {
            "tags": []
          },
          "execution_count": 14
        },
        {
          "output_type": "display_data",
          "data": {
            "image/png": "[encoded data removed]",
            "text/plain": [
              "<Figure size 432x288 with 1 Axes>"
            ]
          },
          "metadata": {
            "tags": [],
            "needs_background": "light"
          }
        }
      ]
    },
    {
      "cell_type": "markdown",
      "metadata": {
        "id": "HW2QB4r2Q82N",
        "colab_type": "text"
      },
      "source": [
        "\n",
        "Taking  out the columns with 100% of the data is missing. "
      ]
    },
    {
      "cell_type": "code",
      "metadata": {
        "id": "VvJStI_hREvU",
        "colab_type": "code",
        "outputId": "fdbb2e3a-5d1c-43ce-fba9-bd1053eab10d",
        "colab": {
          "base_uri": "https://localhost:8080/",
          "height": 51
        }
      },
      "source": [
        "\n",
        "outliers_columns=percent_missing_by_column[percent_missing_by_column>90]\n",
        "outliers_columns=outliers_columns.index.tolist()\n",
        "print(\"These are the columns which will be dropped: \\n {}\".format(outliers_columns))"
      ],
      "execution_count": 0,
      "outputs": [
        {
          "output_type": "stream",
          "text": [
            "These are the columns which will be dropped: \n",
            " ['neighbourhood_group_cleansed', 'square_feet', 'has_availability', 'license', 'jurisdiction_names']\n"
          ],
          "name": "stdout"
        }
      ]
    },
    {
      "cell_type": "code",
      "metadata": {
        "id": "W6fS3ivURvnS",
        "colab_type": "code",
        "colab": {}
      },
      "source": [
        "df_listings.drop(outliers_columns, axis=1, inplace=True)"
      ],
      "execution_count": 0,
      "outputs": []
    },
    {
      "cell_type": "markdown",
      "metadata": {
        "id": "089hyexFBwJV",
        "colab_type": "text"
      },
      "source": [
        "### Question 1\n",
        "\n",
        "### Is there a spatial discrepancy in price based on neighborhood?\n",
        "\n",
        "Knowing particular neighborhood which is consistently more popular and relate this to price."
      ]
    },
    {
      "cell_type": "code",
      "metadata": {
        "id": "b5oebC5P86JS",
        "colab_type": "code",
        "outputId": "a6b690ad-2802-42cd-a2e5-154573c3e188",
        "colab": {
          "base_uri": "https://localhost:8080/",
          "height": 459
        }
      },
      "source": [
        "# Getting an idea of neighborhood clustering as it stands. The neighborhood_cleansed column does this for us.\n",
        "df_listings.neighbourhood_cleansed.value_counts()\n",
        "\n",
        "\n"
      ],
      "execution_count": 0,
      "outputs": [
        {
          "output_type": "execute_result",
          "data": {
            "text/plain": [
              "Jamaica Plain              343\n",
              "South End                  326\n",
              "Back Bay                   302\n",
              "Fenway                     290\n",
              "Dorchester                 269\n",
              "Allston                    260\n",
              "Beacon Hill                194\n",
              "Brighton                   185\n",
              "South Boston               174\n",
              "Downtown                   172\n",
              "East Boston                150\n",
              "Roxbury                    144\n",
              "North End                  143\n",
              "Mission Hill               124\n",
              "Charlestown                111\n",
              "South Boston Waterfront     83\n",
              "Chinatown                   71\n",
              "Roslindale                  56\n",
              "West End                    49\n",
              "West Roxbury                46\n",
              "Hyde Park                   31\n",
              "Bay Village                 24\n",
              "Mattapan                    24\n",
              "Longwood Medical Area        9\n",
              "Leather District             5\n",
              "Name: neighbourhood_cleansed, dtype: int64"
            ]
          },
          "metadata": {
            "tags": []
          },
          "execution_count": 17
        }
      ]
    },
    {
      "cell_type": "code",
      "metadata": {
        "id": "5irBT-r3CfIj",
        "colab_type": "code",
        "outputId": "38468699-fe5a-481a-d83d-0d902647ded4",
        "colab": {
          "base_uri": "https://localhost:8080/",
          "height": 221
        }
      },
      "source": [
        "\n",
        "# The price column has a $ sign and a comma indicating values over $1,000. We need to remove this to make analysis\n",
        "# easier for us. Since we will likely have more data cleaning to do with signs, lets make a function.\n",
        "\n",
        "# Old Values\n",
        "display(df_listings.price.sort_values().head(5))\n",
        "\n",
        "# Sign Replacement function\n",
        "def replace_sign(dataframe,sign):\n",
        "    if type(dataframe) is str:\n",
        "        dataframe = float(dataframe.replace(sign,'').replace(',',''))\n",
        "    return dataframe\n",
        "# New Values\n",
        "df_listings['price'] = df_listings['price'].apply(replace_sign,sign='$')\n",
        "display(df_listings['price'].sort_values(ascending=False).head(5))"
      ],
      "execution_count": 0,
      "outputs": [
        {
          "output_type": "display_data",
          "data": {
            "text/plain": [
              "1764    $1,000.00\n",
              "3242    $1,000.00\n",
              "1896    $1,235.00\n",
              "3096    $1,250.00\n",
              "1262    $1,250.00\n",
              "Name: price, dtype: object"
            ]
          },
          "metadata": {
            "tags": []
          }
        },
        {
          "output_type": "display_data",
          "data": {
            "text/plain": [
              "2285    4000.0\n",
              "3055    3000.0\n",
              "793     1400.0\n",
              "2204    1372.0\n",
              "1950    1345.0\n",
              "Name: price, dtype: float64"
            ]
          },
          "metadata": {
            "tags": []
          }
        }
      ]
    },
    {
      "cell_type": "code",
      "metadata": {
        "id": "-klhn3FbFlZR",
        "colab_type": "code",
        "colab": {}
      },
      "source": [
        "\n",
        "boston = df_listings[['name','latitude','longitude','neighbourhood_cleansed','price','amenities','bedrooms','bathrooms']].copy()\n",
        "amenities_boston = boston['amenities'].map(lambda amens: \"|\".join([amen.replace(\"{\",\"\").replace(\"}\",\"\")\n",
        "                                                          .replace('\"',\"\") for amen in amens.split(',')]))\n",
        "amenities_boston = amenities_boston.map(lambda amens: amens.split('|'))\n",
        "boston['amenities'] = amenities_boston\n",
        "boston.bedrooms = boston.bedrooms.fillna(0.5)\n",
        "boston.bathrooms = boston.bathrooms.fillna(1)\n",
        "boston = boston.query('price <= 600')"
      ],
      "execution_count": 0,
      "outputs": []
    },
    {
      "cell_type": "code",
      "metadata": {
        "id": "G1wzfEp2MEd_",
        "colab_type": "code",
        "outputId": "e79b73e1-6eee-459f-d69f-d0b322b77c76",
        "colab": {
          "base_uri": "https://localhost:8080/",
          "height": 364
        }
      },
      "source": [
        "# Lets make a quick barplot to see what it looks like with the filters eliminating the upper outliers.\n",
        "sns.barplot(x='neighbourhood_cleansed',y='price', data=boston.query('price <= 600'), order=boston.query('price <= 600')\\\n",
        "            .groupby('neighbourhood_cleansed')['price'].mean().sort_values(ascending=False).index)\n",
        "ax = plt.gca();\n",
        "ax.set_xticklabels(ax.get_xticklabels(), rotation=45, ha='right');\n",
        "rcParams['figure.figsize'] = 15,5"
      ],
      "execution_count": 0,
      "outputs": [
        {
          "output_type": "display_data",
          "data": {
            "image/png": "[encoded data removed]",
            "text/plain": [
              "<Figure size 432x288 with 1 Axes>"
            ]
          },
          "metadata": {
            "tags": [],
            "needs_background": "light"
          }
        }
      ]
    },
    {
      "cell_type": "code",
      "metadata": {
        "id": "_SrygIToMckq",
        "colab_type": "code",
        "outputId": "21d7b66d-0ce2-42ab-f018-f9615c01c04e",
        "colab": {
          "base_uri": "https://localhost:8080/",
          "height": 51
        }
      },
      "source": [
        "expensive_prop = boston.price.quantile(q=.9)\n",
        "cheap_prop = boston.price.quantile(q=.1)\n",
        "print(\" 90th percentile is: {}. This will be the expensive symbol.\".format(expensive_prop))\n",
        "print(\"10th percentile is: {}. This will be the cheap symbol.\".format(cheap_prop))"
      ],
      "execution_count": 0,
      "outputs": [
        {
          "output_type": "stream",
          "text": [
            " 90th percentile is: 300.0. This will be the expensive symbol.\n",
            "10th percentile is: 60.0. This will be the cheap symbol.\n"
          ],
          "name": "stdout"
        }
      ]
    },
    {
      "cell_type": "markdown",
      "metadata": {
        "id": "3AoQQt6fNJqo",
        "colab_type": "text"
      },
      "source": [
        "There are disparity of more expensive properties in near Downtown or Waterfront and  much cheaper properties farther away from the city, such as Hyde Park or Roslindale. "
      ]
    },
    {
      "cell_type": "markdown",
      "metadata": {
        "id": "JUNsv2hWNagZ",
        "colab_type": "text"
      },
      "source": [
        "## Inference\n",
        "\n",
        "1.  The ones which are affordable look like rooms either in a dorm or a shared room of an apartment.\n",
        "\n",
        "2. More expensive neighborhoods are downtown which intuitively makes sense.\n",
        "\n",
        "3. The expensive AirBnBs farther away from Downtown are usually multiple bedrooms and bathrooms and possibly full-size mansions."
      ]
    },
    {
      "cell_type": "markdown",
      "metadata": {
        "id": "wO_48K8jN3O_",
        "colab_type": "text"
      },
      "source": [
        "\n",
        "### Question 2\n",
        "\n",
        "### What is the seasonality of price in Boston?\n"
      ]
    },
    {
      "cell_type": "code",
      "metadata": {
        "id": "fSw3HxqMM_MB",
        "colab_type": "code",
        "outputId": "89a5e28b-3337-4525-abd0-6fa4c6573681",
        "colab": {
          "base_uri": "https://localhost:8080/",
          "height": 204
        }
      },
      "source": [
        "# Looking at the calendar data to see which is the most expensive and busiest time of year to visit\n",
        "# Importing the data.\n",
        "\n",
        "df_calendar.head()\n"
      ],
      "execution_count": 0,
      "outputs": [
        {
          "output_type": "execute_result",
          "data": {
            "text/html": [
              "<div>\n",
              "<style scoped>\n",
              "    .dataframe tbody tr th:only-of-type {\n",
              "        vertical-align: middle;\n",
              "    }\n",
              "\n",
              "    .dataframe tbody tr th {\n",
              "        vertical-align: top;\n",
              "    }\n",
              "\n",
              "    .dataframe thead th {\n",
              "        text-align: right;\n",
              "    }\n",
              "</style>\n",
              "<table border=\"1\" class=\"dataframe\">\n",
              "  <thead>\n",
              "    <tr style=\"text-align: right;\">\n",
              "      <th></th>\n",
              "      <th>listing_id</th>\n",
              "      <th>date</th>\n",
              "      <th>available</th>\n",
              "      <th>price</th>\n",
              "    </tr>\n",
              "  </thead>\n",
              "  <tbody>\n",
              "    <tr>\n",
              "      <th>0</th>\n",
              "      <td>12147973</td>\n",
              "      <td>2017-09-05</td>\n",
              "      <td>f</td>\n",
              "      <td>NaN</td>\n",
              "    </tr>\n",
              "    <tr>\n",
              "      <th>1</th>\n",
              "      <td>12147973</td>\n",
              "      <td>2017-09-04</td>\n",
              "      <td>f</td>\n",
              "      <td>NaN</td>\n",
              "    </tr>\n",
              "    <tr>\n",
              "      <th>2</th>\n",
              "      <td>12147973</td>\n",
              "      <td>2017-09-03</td>\n",
              "      <td>f</td>\n",
              "      <td>NaN</td>\n",
              "    </tr>\n",
              "    <tr>\n",
              "      <th>3</th>\n",
              "      <td>12147973</td>\n",
              "      <td>2017-09-02</td>\n",
              "      <td>f</td>\n",
              "      <td>NaN</td>\n",
              "    </tr>\n",
              "    <tr>\n",
              "      <th>4</th>\n",
              "      <td>12147973</td>\n",
              "      <td>2017-09-01</td>\n",
              "      <td>f</td>\n",
              "      <td>NaN</td>\n",
              "    </tr>\n",
              "  </tbody>\n",
              "</table>\n",
              "</div>"
            ],
            "text/plain": [
              "   listing_id        date available price\n",
              "0    12147973  2017-09-05         f   NaN\n",
              "1    12147973  2017-09-04         f   NaN\n",
              "2    12147973  2017-09-03         f   NaN\n",
              "3    12147973  2017-09-02         f   NaN\n",
              "4    12147973  2017-09-01         f   NaN"
            ]
          },
          "metadata": {
            "tags": []
          },
          "execution_count": 23
        }
      ]
    },
    {
      "cell_type": "code",
      "metadata": {
        "id": "ldMjLBz4OSJ1",
        "colab_type": "code",
        "outputId": "74320a6a-48c7-4e19-fd1c-a1aa43927b9f",
        "colab": {
          "base_uri": "https://localhost:8080/",
          "height": 204
        }
      },
      "source": [
        "\n",
        "# Spliting the date in order to do some analysis on month, day of the week, and year seasonality.\n",
        "# Converting them to integers instead of object.\n",
        "df_calendar['year'] = pd.to_datetime(df_calendar['date']).dt.year\n",
        "df_calendar['month'] = pd.to_datetime(df_calendar['date']).dt.month\n",
        "df_calendar['weekday'] = pd.to_datetime(df_calendar['date']).dt.dayofweek\n",
        "df_calendar.head()"
      ],
      "execution_count": 0,
      "outputs": [
        {
          "output_type": "execute_result",
          "data": {
            "text/html": [
              "<div>\n",
              "<style scoped>\n",
              "    .dataframe tbody tr th:only-of-type {\n",
              "        vertical-align: middle;\n",
              "    }\n",
              "\n",
              "    .dataframe tbody tr th {\n",
              "        vertical-align: top;\n",
              "    }\n",
              "\n",
              "    .dataframe thead th {\n",
              "        text-align: right;\n",
              "    }\n",
              "</style>\n",
              "<table border=\"1\" class=\"dataframe\">\n",
              "  <thead>\n",
              "    <tr style=\"text-align: right;\">\n",
              "      <th></th>\n",
              "      <th>listing_id</th>\n",
              "      <th>date</th>\n",
              "      <th>available</th>\n",
              "      <th>price</th>\n",
              "      <th>year</th>\n",
              "      <th>month</th>\n",
              "      <th>weekday</th>\n",
              "    </tr>\n",
              "  </thead>\n",
              "  <tbody>\n",
              "    <tr>\n",
              "      <th>0</th>\n",
              "      <td>12147973</td>\n",
              "      <td>2017-09-05</td>\n",
              "      <td>f</td>\n",
              "      <td>NaN</td>\n",
              "      <td>2017</td>\n",
              "      <td>9</td>\n",
              "      <td>1</td>\n",
              "    </tr>\n",
              "    <tr>\n",
              "      <th>1</th>\n",
              "      <td>12147973</td>\n",
              "      <td>2017-09-04</td>\n",
              "      <td>f</td>\n",
              "      <td>NaN</td>\n",
              "      <td>2017</td>\n",
              "      <td>9</td>\n",
              "      <td>0</td>\n",
              "    </tr>\n",
              "    <tr>\n",
              "      <th>2</th>\n",
              "      <td>12147973</td>\n",
              "      <td>2017-09-03</td>\n",
              "      <td>f</td>\n",
              "      <td>NaN</td>\n",
              "      <td>2017</td>\n",
              "      <td>9</td>\n",
              "      <td>6</td>\n",
              "    </tr>\n",
              "    <tr>\n",
              "      <th>3</th>\n",
              "      <td>12147973</td>\n",
              "      <td>2017-09-02</td>\n",
              "      <td>f</td>\n",
              "      <td>NaN</td>\n",
              "      <td>2017</td>\n",
              "      <td>9</td>\n",
              "      <td>5</td>\n",
              "    </tr>\n",
              "    <tr>\n",
              "      <th>4</th>\n",
              "      <td>12147973</td>\n",
              "      <td>2017-09-01</td>\n",
              "      <td>f</td>\n",
              "      <td>NaN</td>\n",
              "      <td>2017</td>\n",
              "      <td>9</td>\n",
              "      <td>4</td>\n",
              "    </tr>\n",
              "  </tbody>\n",
              "</table>\n",
              "</div>"
            ],
            "text/plain": [
              "   listing_id        date available price  year  month  weekday\n",
              "0    12147973  2017-09-05         f   NaN  2017      9        1\n",
              "1    12147973  2017-09-04         f   NaN  2017      9        0\n",
              "2    12147973  2017-09-03         f   NaN  2017      9        6\n",
              "3    12147973  2017-09-02         f   NaN  2017      9        5\n",
              "4    12147973  2017-09-01         f   NaN  2017      9        4"
            ]
          },
          "metadata": {
            "tags": []
          },
          "execution_count": 25
        }
      ]
    },
    {
      "cell_type": "code",
      "metadata": {
        "id": "yvEFVKasOtaI",
        "colab_type": "code",
        "outputId": "dd83d955-db63-4277-be55-a32a3ec77c21",
        "colab": {
          "base_uri": "https://localhost:8080/",
          "height": 255
        }
      },
      "source": [
        "df_calendar['price'] = df_calendar['price'].apply(replace_sign,sign='$')\n",
        "df_calendar.info()\n"
      ],
      "execution_count": 0,
      "outputs": [
        {
          "output_type": "stream",
          "text": [
            "<class 'pandas.core.frame.DataFrame'>\n",
            "RangeIndex: 1308890 entries, 0 to 1308889\n",
            "Data columns (total 7 columns):\n",
            " #   Column      Non-Null Count    Dtype  \n",
            "---  ------      --------------    -----  \n",
            " 0   listing_id  1308890 non-null  int64  \n",
            " 1   date        1308890 non-null  object \n",
            " 2   available   1308890 non-null  object \n",
            " 3   price       643037 non-null   float64\n",
            " 4   year        1308890 non-null  int64  \n",
            " 5   month       1308890 non-null  int64  \n",
            " 6   weekday     1308890 non-null  int64  \n",
            "dtypes: float64(1), int64(4), object(2)\n",
            "memory usage: 69.9+ MB\n"
          ],
          "name": "stdout"
        }
      ]
    },
    {
      "cell_type": "code",
      "metadata": {
        "id": "trD8VLT8O7ME",
        "colab_type": "code",
        "outputId": "d69d3029-1c72-4f85-f284-322012823575",
        "colab": {
          "base_uri": "https://localhost:8080/",
          "height": 458
        }
      },
      "source": [
        "\n",
        "# Looking at price by month to see when is the most expensive and cheapest month to stay in a Boston AirBnB.\n",
        "avg_price_per_month = round(df_calendar.groupby(['month']).mean()['price'],2)\n",
        "ax = avg_price_per_month.plot(kind='line', title='Average Boston AirBnB Price By Month',figsize=(12,7));\n",
        "ax.set(xlabel='Month', ylabel='Average AirBnB Price ($)');\n",
        "ax.set_ylim(bottom=175.,top=240.)\n",
        "for mon,price in avg_price_per_month.items():\n",
        "    ax.annotate(str(price), xy=(mon, price),xytext=(mon,price-3.5))"
      ],
      "execution_count": 0,
      "outputs": [
        {
          "output_type": "display_data",
          "data": {
            "image/png": "[encoded data removed]",
            "text/plain": [
              "<Figure size 864x504 with 1 Axes>"
            ]
          },
          "metadata": {
            "tags": [],
            "needs_background": "light"
          }
        }
      ]
    },
    {
      "cell_type": "code",
      "metadata": {
        "id": "LrDt3YNrQhDr",
        "colab_type": "code",
        "colab": {}
      },
      "source": [
        ""
      ],
      "execution_count": 0,
      "outputs": []
    },
    {
      "cell_type": "markdown",
      "metadata": {
        "id": "tFrosVFeQpdm",
        "colab_type": "text"
      },
      "source": [
        "## Price By Month\n",
        "\n",
        "September and October are the most expensive months to visit Boston and stay in an AirBnB. "
      ]
    },
    {
      "cell_type": "code",
      "metadata": {
        "id": "XJNaYr1iQrxF",
        "colab_type": "code",
        "colab": {}
      },
      "source": [
        "# Looking at which day of the week is the most expensive to stay in AirBnB in Boston.\n",
        "avg_price_per_wkday = round(calendar.groupby(['weekday']).mean()['price'],2)\n",
        "ax1 = avg_price_per_wkday.plot(kind='line', title='Average Boston AirBnB Price By Day of Week',figsize=(12,7));\n",
        "ax1.set(xlabel='Weekday (0 = Monday, 6 = Sunday)', ylabel='Average AirBnB Price ($)');\n",
        "ax1.set_ylim(bottom=190.,top=210.)\n",
        "for wkday,price in avg_price_per_wkday.items():\n",
        "    ax1.annotate(str(price), xy=(wkday, price),xytext=(wkday+.1,price-.65))"
      ],
      "execution_count": 0,
      "outputs": []
    },
    {
      "cell_type": "markdown",
      "metadata": {
        "id": "PVllx_tmRTaX",
        "colab_type": "text"
      },
      "source": [
        "## Price By Weekday\n",
        "\n",
        "The difference between the mean of a weekend price and a weekday price is less than $10 or 5% of total cost."
      ]
    },
    {
      "cell_type": "code",
      "metadata": {
        "id": "0Mf2p-yCRBkJ",
        "colab_type": "code",
        "colab": {}
      },
      "source": [
        ""
      ],
      "execution_count": 0,
      "outputs": []
    }
  ]
}